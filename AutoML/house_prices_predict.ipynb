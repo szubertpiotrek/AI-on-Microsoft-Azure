{
  "cells": [
    {
      "cell_type": "markdown",
      "source": [
        "# AML Predykcja cen domów \n",
        "---\n",
        "### Use case:\n",
        " - Rozwiązywanym problemem jest predykcja cen domów na podstawie zmiennych objśniających np. powierzchnia, \n",
        " liczba łazienek. Postawionym zadaniem jest regresja, pozwalająca na określenie prawdopodobnej wartości przykładowego\n",
        " domu.\n",
        " \n",
        " - W tym przypadku zmienną objaśnianą jest cena domu (w zbiorze kolumna \"price\"). Na podstawie korelacji z innymi \n",
        " zmiennymi można dokonać predykcji i automatyzacji wyceny wartości domów, będącą pomocą dla agentów nieruchomści.\n",
        "\n",
        "### Dataset: kc_house_data.csv\n",
        "##### Link do zbioru: https://www.kaggle.com/harlfoxem/housesalesprediction\n",
        " - Wybrany został dataset stanowiący archiwum wykonanych transakcji sprzedaży domów w King County w USA. Wykonane zadanie\n",
        " regresji pozwoli zbudować model, działający wyłącznie dla danego regionu.\n",
        "heatmap\n",
        "wykres predykcji\n",
        "opis danych\n",
        "\n",
        "### Uruchomienie notebooka\n",
        " - utworzenie wystąpienia Machine Learning\n",
        " - utworzenie klastra\n",
        " - użycie notestów (Notebooks)\n",
        " - wczytanie notebooka \"house_prices_predict.ipynb\""
      ],
      "metadata": {
        "nteract": {
          "transient": {
            "deleting": false
          }
        }
      }
    },
    {
      "cell_type": "markdown",
      "source": [
        "#### Sprawdzenie AML SDK\n",
        "Importowanie AML core oraz sprawdzenie spójności wersji do wykorzystanych funkcji (eksperyment wykonano dla v.1.19.0)"
      ],
      "metadata": {
        "nteract": {
          "transient": {
            "deleting": false
          }
        }
      }
    },
    {
      "cell_type": "code",
      "source": [
        "# Check core SDK version number\n",
        "import azureml.core\n",
        "\n",
        "print(\"SDK version:\", azureml.core.VERSION)"
      ],
      "outputs": [
        {
          "output_type": "stream",
          "name": "stdout",
          "text": [
            "SDK version: 1.19.0\n"
          ]
        }
      ],
      "execution_count": 1,
      "metadata": {
        "collapsed": true,
        "jupyter": {
          "source_hidden": false,
          "outputs_hidden": false
        },
        "nteract": {
          "transient": {
            "deleting": false
          }
        },
        "gather": {
          "logged": 1611633314866
        }
      }
    },
    {
      "cell_type": "markdown",
      "source": [
        "### Importowanie bibliotek do przetworzenia danych\n",
        " - pandas - biblioteka do przetworzenia i importowania datasetu\n",
        " - matplotlib - biblioteka do tworzenia wykresów"
      ],
      "metadata": {
        "nteract": {
          "transient": {
            "deleting": false
          }
        }
      }
    },
    {
      "cell_type": "code",
      "source": [
        "import pandas as pd\n",
        "import matplotlib.pyplot as plt"
      ],
      "outputs": [],
      "execution_count": 2,
      "metadata": {
        "collapsed": true,
        "jupyter": {
          "source_hidden": false,
          "outputs_hidden": false
        },
        "nteract": {
          "transient": {
            "deleting": false
          }
        },
        "gather": {
          "logged": 1611633315098
        }
      }
    },
    {
      "cell_type": "markdown",
      "source": [
        "### Importowanie danych\n",
        "Dane pliku csv \"kc_house_data.csv\" umieszczone zostały w lokalizacji notebook-a \"house_prices_predict.ipynb\""
      ],
      "metadata": {
        "nteract": {
          "transient": {
            "deleting": false
          }
        }
      }
    },
    {
      "cell_type": "code",
      "source": [
        "houses_df = pd.read_csv('kc_house_data.csv')\n",
        "houses_df.head(5)"
      ],
      "outputs": [
        {
          "output_type": "execute_result",
          "execution_count": 3,
          "data": {
            "text/plain": "           id             date     price  bedrooms  bathrooms  sqft_living  \\\n0  7129300520  20141013T000000  221900.0         3       1.00         1180   \n1  6414100192  20141209T000000  538000.0         3       2.25         2570   \n2  5631500400  20150225T000000  180000.0         2       1.00          770   \n3  2487200875  20141209T000000  604000.0         4       3.00         1960   \n4  1954400510  20150218T000000  510000.0         3       2.00         1680   \n\n   sqft_lot  floors  waterfront  view  ...  grade  sqft_above  sqft_basement  \\\n0      5650     1.0           0     0  ...      7        1180              0   \n1      7242     2.0           0     0  ...      7        2170            400   \n2     10000     1.0           0     0  ...      6         770              0   \n3      5000     1.0           0     0  ...      7        1050            910   \n4      8080     1.0           0     0  ...      8        1680              0   \n\n   yr_built  yr_renovated  zipcode      lat     long  sqft_living15  \\\n0      1955             0    98178  47.5112 -122.257           1340   \n1      1951          1991    98125  47.7210 -122.319           1690   \n2      1933             0    98028  47.7379 -122.233           2720   \n3      1965             0    98136  47.5208 -122.393           1360   \n4      1987             0    98074  47.6168 -122.045           1800   \n\n   sqft_lot15  \n0        5650  \n1        7639  \n2        8062  \n3        5000  \n4        7503  \n\n[5 rows x 21 columns]",
            "text/html": "<div>\n<style scoped>\n    .dataframe tbody tr th:only-of-type {\n        vertical-align: middle;\n    }\n\n    .dataframe tbody tr th {\n        vertical-align: top;\n    }\n\n    .dataframe thead th {\n        text-align: right;\n    }\n</style>\n<table border=\"1\" class=\"dataframe\">\n  <thead>\n    <tr style=\"text-align: right;\">\n      <th></th>\n      <th>id</th>\n      <th>date</th>\n      <th>price</th>\n      <th>bedrooms</th>\n      <th>bathrooms</th>\n      <th>sqft_living</th>\n      <th>sqft_lot</th>\n      <th>floors</th>\n      <th>waterfront</th>\n      <th>view</th>\n      <th>...</th>\n      <th>grade</th>\n      <th>sqft_above</th>\n      <th>sqft_basement</th>\n      <th>yr_built</th>\n      <th>yr_renovated</th>\n      <th>zipcode</th>\n      <th>lat</th>\n      <th>long</th>\n      <th>sqft_living15</th>\n      <th>sqft_lot15</th>\n    </tr>\n  </thead>\n  <tbody>\n    <tr>\n      <th>0</th>\n      <td>7129300520</td>\n      <td>20141013T000000</td>\n      <td>221900.0</td>\n      <td>3</td>\n      <td>1.00</td>\n      <td>1180</td>\n      <td>5650</td>\n      <td>1.0</td>\n      <td>0</td>\n      <td>0</td>\n      <td>...</td>\n      <td>7</td>\n      <td>1180</td>\n      <td>0</td>\n      <td>1955</td>\n      <td>0</td>\n      <td>98178</td>\n      <td>47.5112</td>\n      <td>-122.257</td>\n      <td>1340</td>\n      <td>5650</td>\n    </tr>\n    <tr>\n      <th>1</th>\n      <td>6414100192</td>\n      <td>20141209T000000</td>\n      <td>538000.0</td>\n      <td>3</td>\n      <td>2.25</td>\n      <td>2570</td>\n      <td>7242</td>\n      <td>2.0</td>\n      <td>0</td>\n      <td>0</td>\n      <td>...</td>\n      <td>7</td>\n      <td>2170</td>\n      <td>400</td>\n      <td>1951</td>\n      <td>1991</td>\n      <td>98125</td>\n      <td>47.7210</td>\n      <td>-122.319</td>\n      <td>1690</td>\n      <td>7639</td>\n    </tr>\n    <tr>\n      <th>2</th>\n      <td>5631500400</td>\n      <td>20150225T000000</td>\n      <td>180000.0</td>\n      <td>2</td>\n      <td>1.00</td>\n      <td>770</td>\n      <td>10000</td>\n      <td>1.0</td>\n      <td>0</td>\n      <td>0</td>\n      <td>...</td>\n      <td>6</td>\n      <td>770</td>\n      <td>0</td>\n      <td>1933</td>\n      <td>0</td>\n      <td>98028</td>\n      <td>47.7379</td>\n      <td>-122.233</td>\n      <td>2720</td>\n      <td>8062</td>\n    </tr>\n    <tr>\n      <th>3</th>\n      <td>2487200875</td>\n      <td>20141209T000000</td>\n      <td>604000.0</td>\n      <td>4</td>\n      <td>3.00</td>\n      <td>1960</td>\n      <td>5000</td>\n      <td>1.0</td>\n      <td>0</td>\n      <td>0</td>\n      <td>...</td>\n      <td>7</td>\n      <td>1050</td>\n      <td>910</td>\n      <td>1965</td>\n      <td>0</td>\n      <td>98136</td>\n      <td>47.5208</td>\n      <td>-122.393</td>\n      <td>1360</td>\n      <td>5000</td>\n    </tr>\n    <tr>\n      <th>4</th>\n      <td>1954400510</td>\n      <td>20150218T000000</td>\n      <td>510000.0</td>\n      <td>3</td>\n      <td>2.00</td>\n      <td>1680</td>\n      <td>8080</td>\n      <td>1.0</td>\n      <td>0</td>\n      <td>0</td>\n      <td>...</td>\n      <td>8</td>\n      <td>1680</td>\n      <td>0</td>\n      <td>1987</td>\n      <td>0</td>\n      <td>98074</td>\n      <td>47.6168</td>\n      <td>-122.045</td>\n      <td>1800</td>\n      <td>7503</td>\n    </tr>\n  </tbody>\n</table>\n<p>5 rows × 21 columns</p>\n</div>"
          },
          "metadata": {}
        }
      ],
      "execution_count": 3,
      "metadata": {
        "collapsed": true,
        "jupyter": {
          "source_hidden": false,
          "outputs_hidden": false
        },
        "nteract": {
          "transient": {
            "deleting": false
          }
        },
        "gather": {
          "logged": 1611633315246
        }
      }
    },
    {
      "cell_type": "markdown",
      "source": [
        "### Przetworzenie danych"
      ],
      "metadata": {
        "nteract": {
          "transient": {
            "deleting": false
          }
        }
      }
    },
    {
      "cell_type": "markdown",
      "source": [
        "- Wydzielenie z daty odrębnych danych przypisanych do kolumn:\n",
        "  - dzień\n",
        "  - miesiąc\n",
        "  - rok, \n",
        "- Cel: znalezienie korelacji ceny z okresem sprzedaży domów"
      ],
      "metadata": {
        "nteract": {
          "transient": {
            "deleting": false
          }
        }
      }
    },
    {
      "cell_type": "code",
      "source": [
        "def build_time_features(vector):\n",
        "    price_datetime = pd.to_datetime(vector[0])\n",
        "    month_num = price_datetime.month\n",
        "    day_num = price_datetime.day\n",
        "    year_num = price_datetime.year\n",
        "    \n",
        "    return pd.Series((month_num, day_num, year_num))\n",
        "\n",
        "houses_df[[\"month_num\", \"day_num\",\"year_num\"]] = houses_df[[\"date\"]].apply(build_time_features, axis=1)\n",
        "houses_df.head(5)"
      ],
      "outputs": [
        {
          "output_type": "execute_result",
          "execution_count": 4,
          "data": {
            "text/plain": "           id             date     price  bedrooms  bathrooms  sqft_living  \\\n0  7129300520  20141013T000000  221900.0         3       1.00         1180   \n1  6414100192  20141209T000000  538000.0         3       2.25         2570   \n2  5631500400  20150225T000000  180000.0         2       1.00          770   \n3  2487200875  20141209T000000  604000.0         4       3.00         1960   \n4  1954400510  20150218T000000  510000.0         3       2.00         1680   \n\n   sqft_lot  floors  waterfront  view  ...  yr_built  yr_renovated  zipcode  \\\n0      5650     1.0           0     0  ...      1955             0    98178   \n1      7242     2.0           0     0  ...      1951          1991    98125   \n2     10000     1.0           0     0  ...      1933             0    98028   \n3      5000     1.0           0     0  ...      1965             0    98136   \n4      8080     1.0           0     0  ...      1987             0    98074   \n\n       lat     long  sqft_living15  sqft_lot15  month_num  day_num  year_num  \n0  47.5112 -122.257           1340        5650         10       13      2014  \n1  47.7210 -122.319           1690        7639         12        9      2014  \n2  47.7379 -122.233           2720        8062          2       25      2015  \n3  47.5208 -122.393           1360        5000         12        9      2014  \n4  47.6168 -122.045           1800        7503          2       18      2015  \n\n[5 rows x 24 columns]",
            "text/html": "<div>\n<style scoped>\n    .dataframe tbody tr th:only-of-type {\n        vertical-align: middle;\n    }\n\n    .dataframe tbody tr th {\n        vertical-align: top;\n    }\n\n    .dataframe thead th {\n        text-align: right;\n    }\n</style>\n<table border=\"1\" class=\"dataframe\">\n  <thead>\n    <tr style=\"text-align: right;\">\n      <th></th>\n      <th>id</th>\n      <th>date</th>\n      <th>price</th>\n      <th>bedrooms</th>\n      <th>bathrooms</th>\n      <th>sqft_living</th>\n      <th>sqft_lot</th>\n      <th>floors</th>\n      <th>waterfront</th>\n      <th>view</th>\n      <th>...</th>\n      <th>yr_built</th>\n      <th>yr_renovated</th>\n      <th>zipcode</th>\n      <th>lat</th>\n      <th>long</th>\n      <th>sqft_living15</th>\n      <th>sqft_lot15</th>\n      <th>month_num</th>\n      <th>day_num</th>\n      <th>year_num</th>\n    </tr>\n  </thead>\n  <tbody>\n    <tr>\n      <th>0</th>\n      <td>7129300520</td>\n      <td>20141013T000000</td>\n      <td>221900.0</td>\n      <td>3</td>\n      <td>1.00</td>\n      <td>1180</td>\n      <td>5650</td>\n      <td>1.0</td>\n      <td>0</td>\n      <td>0</td>\n      <td>...</td>\n      <td>1955</td>\n      <td>0</td>\n      <td>98178</td>\n      <td>47.5112</td>\n      <td>-122.257</td>\n      <td>1340</td>\n      <td>5650</td>\n      <td>10</td>\n      <td>13</td>\n      <td>2014</td>\n    </tr>\n    <tr>\n      <th>1</th>\n      <td>6414100192</td>\n      <td>20141209T000000</td>\n      <td>538000.0</td>\n      <td>3</td>\n      <td>2.25</td>\n      <td>2570</td>\n      <td>7242</td>\n      <td>2.0</td>\n      <td>0</td>\n      <td>0</td>\n      <td>...</td>\n      <td>1951</td>\n      <td>1991</td>\n      <td>98125</td>\n      <td>47.7210</td>\n      <td>-122.319</td>\n      <td>1690</td>\n      <td>7639</td>\n      <td>12</td>\n      <td>9</td>\n      <td>2014</td>\n    </tr>\n    <tr>\n      <th>2</th>\n      <td>5631500400</td>\n      <td>20150225T000000</td>\n      <td>180000.0</td>\n      <td>2</td>\n      <td>1.00</td>\n      <td>770</td>\n      <td>10000</td>\n      <td>1.0</td>\n      <td>0</td>\n      <td>0</td>\n      <td>...</td>\n      <td>1933</td>\n      <td>0</td>\n      <td>98028</td>\n      <td>47.7379</td>\n      <td>-122.233</td>\n      <td>2720</td>\n      <td>8062</td>\n      <td>2</td>\n      <td>25</td>\n      <td>2015</td>\n    </tr>\n    <tr>\n      <th>3</th>\n      <td>2487200875</td>\n      <td>20141209T000000</td>\n      <td>604000.0</td>\n      <td>4</td>\n      <td>3.00</td>\n      <td>1960</td>\n      <td>5000</td>\n      <td>1.0</td>\n      <td>0</td>\n      <td>0</td>\n      <td>...</td>\n      <td>1965</td>\n      <td>0</td>\n      <td>98136</td>\n      <td>47.5208</td>\n      <td>-122.393</td>\n      <td>1360</td>\n      <td>5000</td>\n      <td>12</td>\n      <td>9</td>\n      <td>2014</td>\n    </tr>\n    <tr>\n      <th>4</th>\n      <td>1954400510</td>\n      <td>20150218T000000</td>\n      <td>510000.0</td>\n      <td>3</td>\n      <td>2.00</td>\n      <td>1680</td>\n      <td>8080</td>\n      <td>1.0</td>\n      <td>0</td>\n      <td>0</td>\n      <td>...</td>\n      <td>1987</td>\n      <td>0</td>\n      <td>98074</td>\n      <td>47.6168</td>\n      <td>-122.045</td>\n      <td>1800</td>\n      <td>7503</td>\n      <td>2</td>\n      <td>18</td>\n      <td>2015</td>\n    </tr>\n  </tbody>\n</table>\n<p>5 rows × 24 columns</p>\n</div>"
          },
          "metadata": {}
        }
      ],
      "execution_count": 4,
      "metadata": {
        "collapsed": true,
        "jupyter": {
          "source_hidden": false,
          "outputs_hidden": false
        },
        "nteract": {
          "transient": {
            "deleting": false
          }
        },
        "gather": {
          "logged": 1611633327840
        }
      }
    },
    {
      "cell_type": "markdown",
      "source": [
        "- Wyświetlenie korelacji danych i ocena, które zmienne mają statystycznie największy wpływ na cenę mieszkań"
      ],
      "metadata": {
        "nteract": {
          "transient": {
            "deleting": false
          }
        }
      }
    },
    {
      "cell_type": "code",
      "source": [
        "houses_df.corr()"
      ],
      "outputs": [
        {
          "output_type": "execute_result",
          "execution_count": 5,
          "data": {
            "text/plain": "                     id     price  bedrooms  bathrooms  sqft_living  sqft_lot  \\\nid             1.000000 -0.016762  0.001286   0.005160    -0.012258 -0.132109   \nprice         -0.016762  1.000000  0.308350   0.525138     0.702035  0.089661   \nbedrooms       0.001286  0.308350  1.000000   0.515884     0.576671  0.031703   \nbathrooms      0.005160  0.525138  0.515884   1.000000     0.754665  0.087740   \nsqft_living   -0.012258  0.702035  0.576671   0.754665     1.000000  0.172826   \nsqft_lot      -0.132109  0.089661  0.031703   0.087740     0.172826  1.000000   \nfloors         0.018525  0.256794  0.175429   0.500653     0.353949 -0.005201   \nwaterfront    -0.002721  0.266369 -0.006582   0.063744     0.103818  0.021604   \nview           0.011592  0.397293  0.079532   0.187737     0.284611  0.074710   \ncondition     -0.023783  0.036362  0.028472  -0.124982    -0.058753 -0.008958   \ngrade          0.008130  0.667434  0.356967   0.664983     0.762704  0.113621   \nsqft_above    -0.010842  0.605567  0.477600   0.685342     0.876597  0.183512   \nsqft_basement -0.005151  0.323816  0.303093   0.283770     0.435043  0.015286   \nyr_built       0.021380  0.054012  0.154178   0.506019     0.318049  0.053080   \nyr_renovated  -0.016907  0.126434  0.018841   0.050739     0.055363  0.007644   \nzipcode       -0.008224 -0.053203 -0.152668  -0.203866    -0.199430 -0.129574   \nlat           -0.001891  0.307003 -0.008931   0.024573     0.052529 -0.085683   \nlong           0.020799  0.021626  0.129473   0.223042     0.240223  0.229521   \nsqft_living15 -0.002901  0.585379  0.391638   0.568634     0.756420  0.144608   \nsqft_lot15    -0.138798  0.082447  0.029244   0.087175     0.183286  0.718557   \nmonth_num     -0.011708 -0.010081 -0.001533   0.007392     0.011810 -0.002369   \nday_num        0.001939 -0.014670 -0.008031  -0.005304    -0.007246  0.000634   \nyear_num       0.010128  0.003576 -0.009838  -0.026596    -0.029038  0.005468   \n\n                 floors  waterfront      view  condition  ...  yr_built  \\\nid             0.018525   -0.002721  0.011592  -0.023783  ...  0.021380   \nprice          0.256794    0.266369  0.397293   0.036362  ...  0.054012   \nbedrooms       0.175429   -0.006582  0.079532   0.028472  ...  0.154178   \nbathrooms      0.500653    0.063744  0.187737  -0.124982  ...  0.506019   \nsqft_living    0.353949    0.103818  0.284611  -0.058753  ...  0.318049   \nsqft_lot      -0.005201    0.021604  0.074710  -0.008958  ...  0.053080   \nfloors         1.000000    0.023698  0.029444  -0.263768  ...  0.489319   \nwaterfront     0.023698    1.000000  0.401857   0.016653  ... -0.026161   \nview           0.029444    0.401857  1.000000   0.045990  ... -0.053440   \ncondition     -0.263768    0.016653  0.045990   1.000000  ... -0.361417   \ngrade          0.458183    0.082775  0.251321  -0.144674  ...  0.446963   \nsqft_above     0.523885    0.072075  0.167649  -0.158214  ...  0.423898   \nsqft_basement -0.245705    0.080588  0.276947   0.174105  ... -0.133124   \nyr_built       0.489319   -0.026161 -0.053440  -0.361417  ...  1.000000   \nyr_renovated   0.006338    0.092885  0.103917  -0.060618  ... -0.224874   \nzipcode       -0.059121    0.030285  0.084827   0.003026  ... -0.346869   \nlat            0.049614   -0.014274  0.006157  -0.014941  ... -0.148122   \nlong           0.125419   -0.041910 -0.078400  -0.106500  ...  0.409356   \nsqft_living15  0.279885    0.086463  0.280439  -0.092824  ...  0.326229   \nsqft_lot15    -0.011269    0.030703  0.072575  -0.003406  ...  0.070958   \nmonth_num      0.014005    0.008132 -0.005638   0.021978  ... -0.006226   \nday_num       -0.006662    0.010518  0.011174  -0.004643  ... -0.005766   \nyear_num      -0.022315   -0.004165  0.001364  -0.045589  ...  0.003507   \n\n               yr_renovated   zipcode       lat      long  sqft_living15  \\\nid                -0.016907 -0.008224 -0.001891  0.020799      -0.002901   \nprice              0.126434 -0.053203  0.307003  0.021626       0.585379   \nbedrooms           0.018841 -0.152668 -0.008931  0.129473       0.391638   \nbathrooms          0.050739 -0.203866  0.024573  0.223042       0.568634   \nsqft_living        0.055363 -0.199430  0.052529  0.240223       0.756420   \nsqft_lot           0.007644 -0.129574 -0.085683  0.229521       0.144608   \nfloors             0.006338 -0.059121  0.049614  0.125419       0.279885   \nwaterfront         0.092885  0.030285 -0.014274 -0.041910       0.086463   \nview               0.103917  0.084827  0.006157 -0.078400       0.280439   \ncondition         -0.060618  0.003026 -0.014941 -0.106500      -0.092824   \ngrade              0.014414 -0.184862  0.114084  0.198372       0.713202   \nsqft_above         0.023285 -0.261190 -0.000816  0.343803       0.731870   \nsqft_basement      0.071323  0.074845  0.110538 -0.144765       0.200355   \nyr_built          -0.224874 -0.346869 -0.148122  0.409356       0.326229   \nyr_renovated       1.000000  0.064357  0.029398 -0.068372      -0.002673   \nzipcode            0.064357  1.000000  0.267048 -0.564072      -0.279033   \nlat                0.029398  0.267048  1.000000 -0.135512       0.048858   \nlong              -0.068372 -0.564072 -0.135512  1.000000       0.334605   \nsqft_living15     -0.002673 -0.279033  0.048858  0.334605       1.000000   \nsqft_lot15         0.007854 -0.147221 -0.086419  0.254451       0.183192   \nmonth_num          0.012827 -0.000171  0.014961 -0.008134       0.002449   \nday_num            0.008127 -0.003270 -0.015655 -0.007331      -0.008539   \nyear_num          -0.023707  0.001189 -0.029212  0.000270      -0.021734   \n\n               sqft_lot15  month_num   day_num  year_num  \nid              -0.138798  -0.011708  0.001939  0.010128  \nprice            0.082447  -0.010081 -0.014670  0.003576  \nbedrooms         0.029244  -0.001533 -0.008031 -0.009838  \nbathrooms        0.087175   0.007392 -0.005304 -0.026596  \nsqft_living      0.183286   0.011810 -0.007246 -0.029038  \nsqft_lot         0.718557  -0.002369  0.000634  0.005468  \nfloors          -0.011269   0.014005 -0.006662 -0.022315  \nwaterfront       0.030703   0.008132  0.010518 -0.004165  \nview             0.072575  -0.005638  0.011174  0.001364  \ncondition       -0.003406   0.021978 -0.004643 -0.045589  \ngrade            0.119248   0.008376 -0.012483 -0.030387  \nsqft_above       0.194050   0.009872 -0.002475 -0.023823  \nsqft_basement    0.017276   0.006035 -0.010405 -0.015687  \nyr_built         0.070958  -0.006226 -0.005766  0.003507  \nyr_renovated     0.007854   0.012827  0.008127 -0.023707  \nzipcode         -0.147221  -0.000171 -0.003270  0.001189  \nlat             -0.086419   0.014961 -0.015655 -0.029212  \nlong             0.254451  -0.008134 -0.007331  0.000270  \nsqft_living15    0.183192   0.002449 -0.008539 -0.021734  \nsqft_lot15       1.000000   0.003546 -0.002871 -0.000085  \nmonth_num        0.003546   1.000000 -0.060664 -0.782389  \nday_num         -0.002871  -0.060664  1.000000 -0.006103  \nyear_num        -0.000085  -0.782389 -0.006103  1.000000  \n\n[23 rows x 23 columns]",
            "text/html": "<div>\n<style scoped>\n    .dataframe tbody tr th:only-of-type {\n        vertical-align: middle;\n    }\n\n    .dataframe tbody tr th {\n        vertical-align: top;\n    }\n\n    .dataframe thead th {\n        text-align: right;\n    }\n</style>\n<table border=\"1\" class=\"dataframe\">\n  <thead>\n    <tr style=\"text-align: right;\">\n      <th></th>\n      <th>id</th>\n      <th>price</th>\n      <th>bedrooms</th>\n      <th>bathrooms</th>\n      <th>sqft_living</th>\n      <th>sqft_lot</th>\n      <th>floors</th>\n      <th>waterfront</th>\n      <th>view</th>\n      <th>condition</th>\n      <th>...</th>\n      <th>yr_built</th>\n      <th>yr_renovated</th>\n      <th>zipcode</th>\n      <th>lat</th>\n      <th>long</th>\n      <th>sqft_living15</th>\n      <th>sqft_lot15</th>\n      <th>month_num</th>\n      <th>day_num</th>\n      <th>year_num</th>\n    </tr>\n  </thead>\n  <tbody>\n    <tr>\n      <th>id</th>\n      <td>1.000000</td>\n      <td>-0.016762</td>\n      <td>0.001286</td>\n      <td>0.005160</td>\n      <td>-0.012258</td>\n      <td>-0.132109</td>\n      <td>0.018525</td>\n      <td>-0.002721</td>\n      <td>0.011592</td>\n      <td>-0.023783</td>\n      <td>...</td>\n      <td>0.021380</td>\n      <td>-0.016907</td>\n      <td>-0.008224</td>\n      <td>-0.001891</td>\n      <td>0.020799</td>\n      <td>-0.002901</td>\n      <td>-0.138798</td>\n      <td>-0.011708</td>\n      <td>0.001939</td>\n      <td>0.010128</td>\n    </tr>\n    <tr>\n      <th>price</th>\n      <td>-0.016762</td>\n      <td>1.000000</td>\n      <td>0.308350</td>\n      <td>0.525138</td>\n      <td>0.702035</td>\n      <td>0.089661</td>\n      <td>0.256794</td>\n      <td>0.266369</td>\n      <td>0.397293</td>\n      <td>0.036362</td>\n      <td>...</td>\n      <td>0.054012</td>\n      <td>0.126434</td>\n      <td>-0.053203</td>\n      <td>0.307003</td>\n      <td>0.021626</td>\n      <td>0.585379</td>\n      <td>0.082447</td>\n      <td>-0.010081</td>\n      <td>-0.014670</td>\n      <td>0.003576</td>\n    </tr>\n    <tr>\n      <th>bedrooms</th>\n      <td>0.001286</td>\n      <td>0.308350</td>\n      <td>1.000000</td>\n      <td>0.515884</td>\n      <td>0.576671</td>\n      <td>0.031703</td>\n      <td>0.175429</td>\n      <td>-0.006582</td>\n      <td>0.079532</td>\n      <td>0.028472</td>\n      <td>...</td>\n      <td>0.154178</td>\n      <td>0.018841</td>\n      <td>-0.152668</td>\n      <td>-0.008931</td>\n      <td>0.129473</td>\n      <td>0.391638</td>\n      <td>0.029244</td>\n      <td>-0.001533</td>\n      <td>-0.008031</td>\n      <td>-0.009838</td>\n    </tr>\n    <tr>\n      <th>bathrooms</th>\n      <td>0.005160</td>\n      <td>0.525138</td>\n      <td>0.515884</td>\n      <td>1.000000</td>\n      <td>0.754665</td>\n      <td>0.087740</td>\n      <td>0.500653</td>\n      <td>0.063744</td>\n      <td>0.187737</td>\n      <td>-0.124982</td>\n      <td>...</td>\n      <td>0.506019</td>\n      <td>0.050739</td>\n      <td>-0.203866</td>\n      <td>0.024573</td>\n      <td>0.223042</td>\n      <td>0.568634</td>\n      <td>0.087175</td>\n      <td>0.007392</td>\n      <td>-0.005304</td>\n      <td>-0.026596</td>\n    </tr>\n    <tr>\n      <th>sqft_living</th>\n      <td>-0.012258</td>\n      <td>0.702035</td>\n      <td>0.576671</td>\n      <td>0.754665</td>\n      <td>1.000000</td>\n      <td>0.172826</td>\n      <td>0.353949</td>\n      <td>0.103818</td>\n      <td>0.284611</td>\n      <td>-0.058753</td>\n      <td>...</td>\n      <td>0.318049</td>\n      <td>0.055363</td>\n      <td>-0.199430</td>\n      <td>0.052529</td>\n      <td>0.240223</td>\n      <td>0.756420</td>\n      <td>0.183286</td>\n      <td>0.011810</td>\n      <td>-0.007246</td>\n      <td>-0.029038</td>\n    </tr>\n    <tr>\n      <th>sqft_lot</th>\n      <td>-0.132109</td>\n      <td>0.089661</td>\n      <td>0.031703</td>\n      <td>0.087740</td>\n      <td>0.172826</td>\n      <td>1.000000</td>\n      <td>-0.005201</td>\n      <td>0.021604</td>\n      <td>0.074710</td>\n      <td>-0.008958</td>\n      <td>...</td>\n      <td>0.053080</td>\n      <td>0.007644</td>\n      <td>-0.129574</td>\n      <td>-0.085683</td>\n      <td>0.229521</td>\n      <td>0.144608</td>\n      <td>0.718557</td>\n      <td>-0.002369</td>\n      <td>0.000634</td>\n      <td>0.005468</td>\n    </tr>\n    <tr>\n      <th>floors</th>\n      <td>0.018525</td>\n      <td>0.256794</td>\n      <td>0.175429</td>\n      <td>0.500653</td>\n      <td>0.353949</td>\n      <td>-0.005201</td>\n      <td>1.000000</td>\n      <td>0.023698</td>\n      <td>0.029444</td>\n      <td>-0.263768</td>\n      <td>...</td>\n      <td>0.489319</td>\n      <td>0.006338</td>\n      <td>-0.059121</td>\n      <td>0.049614</td>\n      <td>0.125419</td>\n      <td>0.279885</td>\n      <td>-0.011269</td>\n      <td>0.014005</td>\n      <td>-0.006662</td>\n      <td>-0.022315</td>\n    </tr>\n    <tr>\n      <th>waterfront</th>\n      <td>-0.002721</td>\n      <td>0.266369</td>\n      <td>-0.006582</td>\n      <td>0.063744</td>\n      <td>0.103818</td>\n      <td>0.021604</td>\n      <td>0.023698</td>\n      <td>1.000000</td>\n      <td>0.401857</td>\n      <td>0.016653</td>\n      <td>...</td>\n      <td>-0.026161</td>\n      <td>0.092885</td>\n      <td>0.030285</td>\n      <td>-0.014274</td>\n      <td>-0.041910</td>\n      <td>0.086463</td>\n      <td>0.030703</td>\n      <td>0.008132</td>\n      <td>0.010518</td>\n      <td>-0.004165</td>\n    </tr>\n    <tr>\n      <th>view</th>\n      <td>0.011592</td>\n      <td>0.397293</td>\n      <td>0.079532</td>\n      <td>0.187737</td>\n      <td>0.284611</td>\n      <td>0.074710</td>\n      <td>0.029444</td>\n      <td>0.401857</td>\n      <td>1.000000</td>\n      <td>0.045990</td>\n      <td>...</td>\n      <td>-0.053440</td>\n      <td>0.103917</td>\n      <td>0.084827</td>\n      <td>0.006157</td>\n      <td>-0.078400</td>\n      <td>0.280439</td>\n      <td>0.072575</td>\n      <td>-0.005638</td>\n      <td>0.011174</td>\n      <td>0.001364</td>\n    </tr>\n    <tr>\n      <th>condition</th>\n      <td>-0.023783</td>\n      <td>0.036362</td>\n      <td>0.028472</td>\n      <td>-0.124982</td>\n      <td>-0.058753</td>\n      <td>-0.008958</td>\n      <td>-0.263768</td>\n      <td>0.016653</td>\n      <td>0.045990</td>\n      <td>1.000000</td>\n      <td>...</td>\n      <td>-0.361417</td>\n      <td>-0.060618</td>\n      <td>0.003026</td>\n      <td>-0.014941</td>\n      <td>-0.106500</td>\n      <td>-0.092824</td>\n      <td>-0.003406</td>\n      <td>0.021978</td>\n      <td>-0.004643</td>\n      <td>-0.045589</td>\n    </tr>\n    <tr>\n      <th>grade</th>\n      <td>0.008130</td>\n      <td>0.667434</td>\n      <td>0.356967</td>\n      <td>0.664983</td>\n      <td>0.762704</td>\n      <td>0.113621</td>\n      <td>0.458183</td>\n      <td>0.082775</td>\n      <td>0.251321</td>\n      <td>-0.144674</td>\n      <td>...</td>\n      <td>0.446963</td>\n      <td>0.014414</td>\n      <td>-0.184862</td>\n      <td>0.114084</td>\n      <td>0.198372</td>\n      <td>0.713202</td>\n      <td>0.119248</td>\n      <td>0.008376</td>\n      <td>-0.012483</td>\n      <td>-0.030387</td>\n    </tr>\n    <tr>\n      <th>sqft_above</th>\n      <td>-0.010842</td>\n      <td>0.605567</td>\n      <td>0.477600</td>\n      <td>0.685342</td>\n      <td>0.876597</td>\n      <td>0.183512</td>\n      <td>0.523885</td>\n      <td>0.072075</td>\n      <td>0.167649</td>\n      <td>-0.158214</td>\n      <td>...</td>\n      <td>0.423898</td>\n      <td>0.023285</td>\n      <td>-0.261190</td>\n      <td>-0.000816</td>\n      <td>0.343803</td>\n      <td>0.731870</td>\n      <td>0.194050</td>\n      <td>0.009872</td>\n      <td>-0.002475</td>\n      <td>-0.023823</td>\n    </tr>\n    <tr>\n      <th>sqft_basement</th>\n      <td>-0.005151</td>\n      <td>0.323816</td>\n      <td>0.303093</td>\n      <td>0.283770</td>\n      <td>0.435043</td>\n      <td>0.015286</td>\n      <td>-0.245705</td>\n      <td>0.080588</td>\n      <td>0.276947</td>\n      <td>0.174105</td>\n      <td>...</td>\n      <td>-0.133124</td>\n      <td>0.071323</td>\n      <td>0.074845</td>\n      <td>0.110538</td>\n      <td>-0.144765</td>\n      <td>0.200355</td>\n      <td>0.017276</td>\n      <td>0.006035</td>\n      <td>-0.010405</td>\n      <td>-0.015687</td>\n    </tr>\n    <tr>\n      <th>yr_built</th>\n      <td>0.021380</td>\n      <td>0.054012</td>\n      <td>0.154178</td>\n      <td>0.506019</td>\n      <td>0.318049</td>\n      <td>0.053080</td>\n      <td>0.489319</td>\n      <td>-0.026161</td>\n      <td>-0.053440</td>\n      <td>-0.361417</td>\n      <td>...</td>\n      <td>1.000000</td>\n      <td>-0.224874</td>\n      <td>-0.346869</td>\n      <td>-0.148122</td>\n      <td>0.409356</td>\n      <td>0.326229</td>\n      <td>0.070958</td>\n      <td>-0.006226</td>\n      <td>-0.005766</td>\n      <td>0.003507</td>\n    </tr>\n    <tr>\n      <th>yr_renovated</th>\n      <td>-0.016907</td>\n      <td>0.126434</td>\n      <td>0.018841</td>\n      <td>0.050739</td>\n      <td>0.055363</td>\n      <td>0.007644</td>\n      <td>0.006338</td>\n      <td>0.092885</td>\n      <td>0.103917</td>\n      <td>-0.060618</td>\n      <td>...</td>\n      <td>-0.224874</td>\n      <td>1.000000</td>\n      <td>0.064357</td>\n      <td>0.029398</td>\n      <td>-0.068372</td>\n      <td>-0.002673</td>\n      <td>0.007854</td>\n      <td>0.012827</td>\n      <td>0.008127</td>\n      <td>-0.023707</td>\n    </tr>\n    <tr>\n      <th>zipcode</th>\n      <td>-0.008224</td>\n      <td>-0.053203</td>\n      <td>-0.152668</td>\n      <td>-0.203866</td>\n      <td>-0.199430</td>\n      <td>-0.129574</td>\n      <td>-0.059121</td>\n      <td>0.030285</td>\n      <td>0.084827</td>\n      <td>0.003026</td>\n      <td>...</td>\n      <td>-0.346869</td>\n      <td>0.064357</td>\n      <td>1.000000</td>\n      <td>0.267048</td>\n      <td>-0.564072</td>\n      <td>-0.279033</td>\n      <td>-0.147221</td>\n      <td>-0.000171</td>\n      <td>-0.003270</td>\n      <td>0.001189</td>\n    </tr>\n    <tr>\n      <th>lat</th>\n      <td>-0.001891</td>\n      <td>0.307003</td>\n      <td>-0.008931</td>\n      <td>0.024573</td>\n      <td>0.052529</td>\n      <td>-0.085683</td>\n      <td>0.049614</td>\n      <td>-0.014274</td>\n      <td>0.006157</td>\n      <td>-0.014941</td>\n      <td>...</td>\n      <td>-0.148122</td>\n      <td>0.029398</td>\n      <td>0.267048</td>\n      <td>1.000000</td>\n      <td>-0.135512</td>\n      <td>0.048858</td>\n      <td>-0.086419</td>\n      <td>0.014961</td>\n      <td>-0.015655</td>\n      <td>-0.029212</td>\n    </tr>\n    <tr>\n      <th>long</th>\n      <td>0.020799</td>\n      <td>0.021626</td>\n      <td>0.129473</td>\n      <td>0.223042</td>\n      <td>0.240223</td>\n      <td>0.229521</td>\n      <td>0.125419</td>\n      <td>-0.041910</td>\n      <td>-0.078400</td>\n      <td>-0.106500</td>\n      <td>...</td>\n      <td>0.409356</td>\n      <td>-0.068372</td>\n      <td>-0.564072</td>\n      <td>-0.135512</td>\n      <td>1.000000</td>\n      <td>0.334605</td>\n      <td>0.254451</td>\n      <td>-0.008134</td>\n      <td>-0.007331</td>\n      <td>0.000270</td>\n    </tr>\n    <tr>\n      <th>sqft_living15</th>\n      <td>-0.002901</td>\n      <td>0.585379</td>\n      <td>0.391638</td>\n      <td>0.568634</td>\n      <td>0.756420</td>\n      <td>0.144608</td>\n      <td>0.279885</td>\n      <td>0.086463</td>\n      <td>0.280439</td>\n      <td>-0.092824</td>\n      <td>...</td>\n      <td>0.326229</td>\n      <td>-0.002673</td>\n      <td>-0.279033</td>\n      <td>0.048858</td>\n      <td>0.334605</td>\n      <td>1.000000</td>\n      <td>0.183192</td>\n      <td>0.002449</td>\n      <td>-0.008539</td>\n      <td>-0.021734</td>\n    </tr>\n    <tr>\n      <th>sqft_lot15</th>\n      <td>-0.138798</td>\n      <td>0.082447</td>\n      <td>0.029244</td>\n      <td>0.087175</td>\n      <td>0.183286</td>\n      <td>0.718557</td>\n      <td>-0.011269</td>\n      <td>0.030703</td>\n      <td>0.072575</td>\n      <td>-0.003406</td>\n      <td>...</td>\n      <td>0.070958</td>\n      <td>0.007854</td>\n      <td>-0.147221</td>\n      <td>-0.086419</td>\n      <td>0.254451</td>\n      <td>0.183192</td>\n      <td>1.000000</td>\n      <td>0.003546</td>\n      <td>-0.002871</td>\n      <td>-0.000085</td>\n    </tr>\n    <tr>\n      <th>month_num</th>\n      <td>-0.011708</td>\n      <td>-0.010081</td>\n      <td>-0.001533</td>\n      <td>0.007392</td>\n      <td>0.011810</td>\n      <td>-0.002369</td>\n      <td>0.014005</td>\n      <td>0.008132</td>\n      <td>-0.005638</td>\n      <td>0.021978</td>\n      <td>...</td>\n      <td>-0.006226</td>\n      <td>0.012827</td>\n      <td>-0.000171</td>\n      <td>0.014961</td>\n      <td>-0.008134</td>\n      <td>0.002449</td>\n      <td>0.003546</td>\n      <td>1.000000</td>\n      <td>-0.060664</td>\n      <td>-0.782389</td>\n    </tr>\n    <tr>\n      <th>day_num</th>\n      <td>0.001939</td>\n      <td>-0.014670</td>\n      <td>-0.008031</td>\n      <td>-0.005304</td>\n      <td>-0.007246</td>\n      <td>0.000634</td>\n      <td>-0.006662</td>\n      <td>0.010518</td>\n      <td>0.011174</td>\n      <td>-0.004643</td>\n      <td>...</td>\n      <td>-0.005766</td>\n      <td>0.008127</td>\n      <td>-0.003270</td>\n      <td>-0.015655</td>\n      <td>-0.007331</td>\n      <td>-0.008539</td>\n      <td>-0.002871</td>\n      <td>-0.060664</td>\n      <td>1.000000</td>\n      <td>-0.006103</td>\n    </tr>\n    <tr>\n      <th>year_num</th>\n      <td>0.010128</td>\n      <td>0.003576</td>\n      <td>-0.009838</td>\n      <td>-0.026596</td>\n      <td>-0.029038</td>\n      <td>0.005468</td>\n      <td>-0.022315</td>\n      <td>-0.004165</td>\n      <td>0.001364</td>\n      <td>-0.045589</td>\n      <td>...</td>\n      <td>0.003507</td>\n      <td>-0.023707</td>\n      <td>0.001189</td>\n      <td>-0.029212</td>\n      <td>0.000270</td>\n      <td>-0.021734</td>\n      <td>-0.000085</td>\n      <td>-0.782389</td>\n      <td>-0.006103</td>\n      <td>1.000000</td>\n    </tr>\n  </tbody>\n</table>\n<p>23 rows × 23 columns</p>\n</div>"
          },
          "metadata": {}
        }
      ],
      "execution_count": 5,
      "metadata": {
        "collapsed": true,
        "jupyter": {
          "source_hidden": false,
          "outputs_hidden": false
        },
        "nteract": {
          "transient": {
            "deleting": false
          }
        },
        "gather": {
          "logged": 1611633328113
        }
      }
    },
    {
      "cell_type": "markdown",
      "source": [
        "- Usunięcie zmiennych, które wykazują niewielką korelację z ceną domów lub mogą wpłynąć negatywnie na eksperyment"
      ],
      "metadata": {
        "nteract": {
          "transient": {
            "deleting": false
          }
        }
      }
    },
    {
      "cell_type": "code",
      "source": [
        "columns_to_remove = [\"id\", \"date\", \"sqft_lot15\", \"sqft_living15\", \"zipcode\", \"yr_renovated\"]\n",
        "for col in columns_to_remove:\n",
        "    houses_df.pop(col)\n",
        "    \n",
        "houses_df.head(5)"
      ],
      "outputs": [
        {
          "output_type": "execute_result",
          "execution_count": 6,
          "data": {
            "text/plain": "      price  bedrooms  bathrooms  sqft_living  sqft_lot  floors  waterfront  \\\n0  221900.0         3       1.00         1180      5650     1.0           0   \n1  538000.0         3       2.25         2570      7242     2.0           0   \n2  180000.0         2       1.00          770     10000     1.0           0   \n3  604000.0         4       3.00         1960      5000     1.0           0   \n4  510000.0         3       2.00         1680      8080     1.0           0   \n\n   view  condition  grade  sqft_above  sqft_basement  yr_built      lat  \\\n0     0          3      7        1180              0      1955  47.5112   \n1     0          3      7        2170            400      1951  47.7210   \n2     0          3      6         770              0      1933  47.7379   \n3     0          5      7        1050            910      1965  47.5208   \n4     0          3      8        1680              0      1987  47.6168   \n\n      long  month_num  day_num  year_num  \n0 -122.257         10       13      2014  \n1 -122.319         12        9      2014  \n2 -122.233          2       25      2015  \n3 -122.393         12        9      2014  \n4 -122.045          2       18      2015  ",
            "text/html": "<div>\n<style scoped>\n    .dataframe tbody tr th:only-of-type {\n        vertical-align: middle;\n    }\n\n    .dataframe tbody tr th {\n        vertical-align: top;\n    }\n\n    .dataframe thead th {\n        text-align: right;\n    }\n</style>\n<table border=\"1\" class=\"dataframe\">\n  <thead>\n    <tr style=\"text-align: right;\">\n      <th></th>\n      <th>price</th>\n      <th>bedrooms</th>\n      <th>bathrooms</th>\n      <th>sqft_living</th>\n      <th>sqft_lot</th>\n      <th>floors</th>\n      <th>waterfront</th>\n      <th>view</th>\n      <th>condition</th>\n      <th>grade</th>\n      <th>sqft_above</th>\n      <th>sqft_basement</th>\n      <th>yr_built</th>\n      <th>lat</th>\n      <th>long</th>\n      <th>month_num</th>\n      <th>day_num</th>\n      <th>year_num</th>\n    </tr>\n  </thead>\n  <tbody>\n    <tr>\n      <th>0</th>\n      <td>221900.0</td>\n      <td>3</td>\n      <td>1.00</td>\n      <td>1180</td>\n      <td>5650</td>\n      <td>1.0</td>\n      <td>0</td>\n      <td>0</td>\n      <td>3</td>\n      <td>7</td>\n      <td>1180</td>\n      <td>0</td>\n      <td>1955</td>\n      <td>47.5112</td>\n      <td>-122.257</td>\n      <td>10</td>\n      <td>13</td>\n      <td>2014</td>\n    </tr>\n    <tr>\n      <th>1</th>\n      <td>538000.0</td>\n      <td>3</td>\n      <td>2.25</td>\n      <td>2570</td>\n      <td>7242</td>\n      <td>2.0</td>\n      <td>0</td>\n      <td>0</td>\n      <td>3</td>\n      <td>7</td>\n      <td>2170</td>\n      <td>400</td>\n      <td>1951</td>\n      <td>47.7210</td>\n      <td>-122.319</td>\n      <td>12</td>\n      <td>9</td>\n      <td>2014</td>\n    </tr>\n    <tr>\n      <th>2</th>\n      <td>180000.0</td>\n      <td>2</td>\n      <td>1.00</td>\n      <td>770</td>\n      <td>10000</td>\n      <td>1.0</td>\n      <td>0</td>\n      <td>0</td>\n      <td>3</td>\n      <td>6</td>\n      <td>770</td>\n      <td>0</td>\n      <td>1933</td>\n      <td>47.7379</td>\n      <td>-122.233</td>\n      <td>2</td>\n      <td>25</td>\n      <td>2015</td>\n    </tr>\n    <tr>\n      <th>3</th>\n      <td>604000.0</td>\n      <td>4</td>\n      <td>3.00</td>\n      <td>1960</td>\n      <td>5000</td>\n      <td>1.0</td>\n      <td>0</td>\n      <td>0</td>\n      <td>5</td>\n      <td>7</td>\n      <td>1050</td>\n      <td>910</td>\n      <td>1965</td>\n      <td>47.5208</td>\n      <td>-122.393</td>\n      <td>12</td>\n      <td>9</td>\n      <td>2014</td>\n    </tr>\n    <tr>\n      <th>4</th>\n      <td>510000.0</td>\n      <td>3</td>\n      <td>2.00</td>\n      <td>1680</td>\n      <td>8080</td>\n      <td>1.0</td>\n      <td>0</td>\n      <td>0</td>\n      <td>3</td>\n      <td>8</td>\n      <td>1680</td>\n      <td>0</td>\n      <td>1987</td>\n      <td>47.6168</td>\n      <td>-122.045</td>\n      <td>2</td>\n      <td>18</td>\n      <td>2015</td>\n    </tr>\n  </tbody>\n</table>\n</div>"
          },
          "metadata": {}
        }
      ],
      "execution_count": 6,
      "metadata": {
        "collapsed": true,
        "jupyter": {
          "source_hidden": false,
          "outputs_hidden": false
        },
        "nteract": {
          "transient": {
            "deleting": false
          }
        },
        "gather": {
          "logged": 1611633328396
        }
      }
    },
    {
      "cell_type": "markdown",
      "source": [
        "### Dane po przetworzeniu\n",
        "- rozkład statystyczny zmiennych"
      ],
      "metadata": {
        "nteract": {
          "transient": {
            "deleting": false
          }
        }
      }
    },
    {
      "cell_type": "code",
      "source": [
        "prepared_houses_df = houses_df\n",
        "prepared_houses_df.describe()"
      ],
      "outputs": [
        {
          "output_type": "execute_result",
          "execution_count": 7,
          "data": {
            "text/plain": "              price      bedrooms     bathrooms   sqft_living      sqft_lot  \\\ncount  2.161300e+04  21613.000000  21613.000000  21613.000000  2.161300e+04   \nmean   5.400881e+05      3.370842      2.114757   2079.899736  1.510697e+04   \nstd    3.671272e+05      0.930062      0.770163    918.440897  4.142051e+04   \nmin    7.500000e+04      0.000000      0.000000    290.000000  5.200000e+02   \n25%    3.219500e+05      3.000000      1.750000   1427.000000  5.040000e+03   \n50%    4.500000e+05      3.000000      2.250000   1910.000000  7.618000e+03   \n75%    6.450000e+05      4.000000      2.500000   2550.000000  1.068800e+04   \nmax    7.700000e+06     33.000000      8.000000  13540.000000  1.651359e+06   \n\n             floors    waterfront          view     condition         grade  \\\ncount  21613.000000  21613.000000  21613.000000  21613.000000  21613.000000   \nmean       1.494309      0.007542      0.234303      3.409430      7.656873   \nstd        0.539989      0.086517      0.766318      0.650743      1.175459   \nmin        1.000000      0.000000      0.000000      1.000000      1.000000   \n25%        1.000000      0.000000      0.000000      3.000000      7.000000   \n50%        1.500000      0.000000      0.000000      3.000000      7.000000   \n75%        2.000000      0.000000      0.000000      4.000000      8.000000   \nmax        3.500000      1.000000      4.000000      5.000000     13.000000   \n\n         sqft_above  sqft_basement      yr_built           lat          long  \\\ncount  21613.000000   21613.000000  21613.000000  21613.000000  21613.000000   \nmean    1788.390691     291.509045   1971.005136     47.560053   -122.213896   \nstd      828.090978     442.575043     29.373411      0.138564      0.140828   \nmin      290.000000       0.000000   1900.000000     47.155900   -122.519000   \n25%     1190.000000       0.000000   1951.000000     47.471000   -122.328000   \n50%     1560.000000       0.000000   1975.000000     47.571800   -122.230000   \n75%     2210.000000     560.000000   1997.000000     47.678000   -122.125000   \nmax     9410.000000    4820.000000   2015.000000     47.777600   -121.315000   \n\n          month_num       day_num      year_num  \ncount  21613.000000  21613.000000  21613.000000  \nmean       6.574423     15.688197   2014.322954  \nstd        3.115308      8.635063      0.467616  \nmin        1.000000      1.000000   2014.000000  \n25%        4.000000      8.000000   2014.000000  \n50%        6.000000     16.000000   2014.000000  \n75%        9.000000     23.000000   2015.000000  \nmax       12.000000     31.000000   2015.000000  ",
            "text/html": "<div>\n<style scoped>\n    .dataframe tbody tr th:only-of-type {\n        vertical-align: middle;\n    }\n\n    .dataframe tbody tr th {\n        vertical-align: top;\n    }\n\n    .dataframe thead th {\n        text-align: right;\n    }\n</style>\n<table border=\"1\" class=\"dataframe\">\n  <thead>\n    <tr style=\"text-align: right;\">\n      <th></th>\n      <th>price</th>\n      <th>bedrooms</th>\n      <th>bathrooms</th>\n      <th>sqft_living</th>\n      <th>sqft_lot</th>\n      <th>floors</th>\n      <th>waterfront</th>\n      <th>view</th>\n      <th>condition</th>\n      <th>grade</th>\n      <th>sqft_above</th>\n      <th>sqft_basement</th>\n      <th>yr_built</th>\n      <th>lat</th>\n      <th>long</th>\n      <th>month_num</th>\n      <th>day_num</th>\n      <th>year_num</th>\n    </tr>\n  </thead>\n  <tbody>\n    <tr>\n      <th>count</th>\n      <td>2.161300e+04</td>\n      <td>21613.000000</td>\n      <td>21613.000000</td>\n      <td>21613.000000</td>\n      <td>2.161300e+04</td>\n      <td>21613.000000</td>\n      <td>21613.000000</td>\n      <td>21613.000000</td>\n      <td>21613.000000</td>\n      <td>21613.000000</td>\n      <td>21613.000000</td>\n      <td>21613.000000</td>\n      <td>21613.000000</td>\n      <td>21613.000000</td>\n      <td>21613.000000</td>\n      <td>21613.000000</td>\n      <td>21613.000000</td>\n      <td>21613.000000</td>\n    </tr>\n    <tr>\n      <th>mean</th>\n      <td>5.400881e+05</td>\n      <td>3.370842</td>\n      <td>2.114757</td>\n      <td>2079.899736</td>\n      <td>1.510697e+04</td>\n      <td>1.494309</td>\n      <td>0.007542</td>\n      <td>0.234303</td>\n      <td>3.409430</td>\n      <td>7.656873</td>\n      <td>1788.390691</td>\n      <td>291.509045</td>\n      <td>1971.005136</td>\n      <td>47.560053</td>\n      <td>-122.213896</td>\n      <td>6.574423</td>\n      <td>15.688197</td>\n      <td>2014.322954</td>\n    </tr>\n    <tr>\n      <th>std</th>\n      <td>3.671272e+05</td>\n      <td>0.930062</td>\n      <td>0.770163</td>\n      <td>918.440897</td>\n      <td>4.142051e+04</td>\n      <td>0.539989</td>\n      <td>0.086517</td>\n      <td>0.766318</td>\n      <td>0.650743</td>\n      <td>1.175459</td>\n      <td>828.090978</td>\n      <td>442.575043</td>\n      <td>29.373411</td>\n      <td>0.138564</td>\n      <td>0.140828</td>\n      <td>3.115308</td>\n      <td>8.635063</td>\n      <td>0.467616</td>\n    </tr>\n    <tr>\n      <th>min</th>\n      <td>7.500000e+04</td>\n      <td>0.000000</td>\n      <td>0.000000</td>\n      <td>290.000000</td>\n      <td>5.200000e+02</td>\n      <td>1.000000</td>\n      <td>0.000000</td>\n      <td>0.000000</td>\n      <td>1.000000</td>\n      <td>1.000000</td>\n      <td>290.000000</td>\n      <td>0.000000</td>\n      <td>1900.000000</td>\n      <td>47.155900</td>\n      <td>-122.519000</td>\n      <td>1.000000</td>\n      <td>1.000000</td>\n      <td>2014.000000</td>\n    </tr>\n    <tr>\n      <th>25%</th>\n      <td>3.219500e+05</td>\n      <td>3.000000</td>\n      <td>1.750000</td>\n      <td>1427.000000</td>\n      <td>5.040000e+03</td>\n      <td>1.000000</td>\n      <td>0.000000</td>\n      <td>0.000000</td>\n      <td>3.000000</td>\n      <td>7.000000</td>\n      <td>1190.000000</td>\n      <td>0.000000</td>\n      <td>1951.000000</td>\n      <td>47.471000</td>\n      <td>-122.328000</td>\n      <td>4.000000</td>\n      <td>8.000000</td>\n      <td>2014.000000</td>\n    </tr>\n    <tr>\n      <th>50%</th>\n      <td>4.500000e+05</td>\n      <td>3.000000</td>\n      <td>2.250000</td>\n      <td>1910.000000</td>\n      <td>7.618000e+03</td>\n      <td>1.500000</td>\n      <td>0.000000</td>\n      <td>0.000000</td>\n      <td>3.000000</td>\n      <td>7.000000</td>\n      <td>1560.000000</td>\n      <td>0.000000</td>\n      <td>1975.000000</td>\n      <td>47.571800</td>\n      <td>-122.230000</td>\n      <td>6.000000</td>\n      <td>16.000000</td>\n      <td>2014.000000</td>\n    </tr>\n    <tr>\n      <th>75%</th>\n      <td>6.450000e+05</td>\n      <td>4.000000</td>\n      <td>2.500000</td>\n      <td>2550.000000</td>\n      <td>1.068800e+04</td>\n      <td>2.000000</td>\n      <td>0.000000</td>\n      <td>0.000000</td>\n      <td>4.000000</td>\n      <td>8.000000</td>\n      <td>2210.000000</td>\n      <td>560.000000</td>\n      <td>1997.000000</td>\n      <td>47.678000</td>\n      <td>-122.125000</td>\n      <td>9.000000</td>\n      <td>23.000000</td>\n      <td>2015.000000</td>\n    </tr>\n    <tr>\n      <th>max</th>\n      <td>7.700000e+06</td>\n      <td>33.000000</td>\n      <td>8.000000</td>\n      <td>13540.000000</td>\n      <td>1.651359e+06</td>\n      <td>3.500000</td>\n      <td>1.000000</td>\n      <td>4.000000</td>\n      <td>5.000000</td>\n      <td>13.000000</td>\n      <td>9410.000000</td>\n      <td>4820.000000</td>\n      <td>2015.000000</td>\n      <td>47.777600</td>\n      <td>-121.315000</td>\n      <td>12.000000</td>\n      <td>31.000000</td>\n      <td>2015.000000</td>\n    </tr>\n  </tbody>\n</table>\n</div>"
          },
          "metadata": {}
        }
      ],
      "execution_count": 7,
      "metadata": {
        "collapsed": true,
        "jupyter": {
          "source_hidden": false,
          "outputs_hidden": false
        },
        "nteract": {
          "transient": {
            "deleting": false
          }
        },
        "gather": {
          "logged": 1611633328609
        }
      }
    },
    {
      "cell_type": "markdown",
      "source": [
        "### Przygotowanie workspace AML\n",
        "Importownie obiektu pozwalającego na konfigurację AML"
      ],
      "metadata": {
        "nteract": {
          "transient": {
            "deleting": false
          }
        }
      }
    },
    {
      "cell_type": "code",
      "source": [
        "from azureml.core.workspace import Workspace\n",
        "ws = Workspace.from_config()"
      ],
      "outputs": [],
      "execution_count": 8,
      "metadata": {
        "collapsed": true,
        "jupyter": {
          "source_hidden": false,
          "outputs_hidden": false
        },
        "nteract": {
          "transient": {
            "deleting": false
          }
        },
        "gather": {
          "logged": 1611633332010
        }
      }
    },
    {
      "cell_type": "markdown",
      "source": [
        "### Podział na dane uczące i testowe\n",
        "- Dane uczące: 70%\n",
        "- Dane testowe: 30%"
      ],
      "metadata": {
        "nteract": {
          "transient": {
            "deleting": false
          }
        }
      }
    },
    {
      "cell_type": "code",
      "source": [
        "from sklearn.model_selection import train_test_split\n",
        "\n",
        "x_train, x_test = train_test_split(prepared_houses_df, test_size=0.3, random_state=223)"
      ],
      "outputs": [],
      "execution_count": 9,
      "metadata": {
        "collapsed": true,
        "jupyter": {
          "source_hidden": false,
          "outputs_hidden": false
        },
        "nteract": {
          "transient": {
            "deleting": false
          }
        },
        "gather": {
          "logged": 1611633333780
        }
      }
    },
    {
      "cell_type": "markdown",
      "source": [
        "### Przygotowanie ustawień treningowych AML\n",
        "Parametry ustawień:\n",
        "- \"iteration_timeout_minutes\" - limit czasu iteracji w minutach\n",
        "- \"experiment_timeout_hours\" - maksymalny czas trwania eksperymentu\n",
        "- \"enable_early_stopping\" - wczesne zakończenie dla braku znacznych zmian uczenia\n",
        "- \"primary_metric\" - optymalizowana metryka, w tym przypadku \"Korelacja Spearmana\"\n",
        "- \"featurization\" - wstępne przetwarzanie danych przez eksperymenty\n",
        "- \"verbosity\" - logi\n",
        "- \"n_cross_validations\" - sprawdzian krzyżowy poprawności"
      ],
      "metadata": {
        "nteract": {
          "transient": {
            "deleting": false
          }
        }
      }
    },
    {
      "cell_type": "code",
      "source": [
        "import logging\n",
        "\n",
        "automl_settings = {\n",
        "    \"iteration_timeout_minutes\": 10,\n",
        "    \"experiment_timeout_hours\": 0.3,\n",
        "    \"enable_early_stopping\": True,\n",
        "    \"primary_metric\": 'spearman_correlation',\n",
        "    \"featurization\": 'auto',\n",
        "    \"verbosity\": logging.INFO,\n",
        "    \"n_cross_validations\": 10\n",
        "}"
      ],
      "outputs": [],
      "execution_count": 10,
      "metadata": {
        "collapsed": true,
        "jupyter": {
          "source_hidden": false,
          "outputs_hidden": false
        },
        "nteract": {
          "transient": {
            "deleting": false
          }
        },
        "gather": {
          "logged": 1611633333919
        }
      }
    },
    {
      "cell_type": "markdown",
      "source": [
        "### Konfiguracja AML\n",
        "Parametry konfiguracji:\n",
        "- \"task\" - zadanie, w tym przypadku regresji\n",
        "- \"training_data\" - zbiór danych treningowych\n",
        "- \"label_column_name\" - kolumna zmiennej objaśnianej"
      ],
      "metadata": {
        "nteract": {
          "transient": {
            "deleting": false
          }
        }
      }
    },
    {
      "cell_type": "code",
      "source": [
        "from azureml.train.automl import AutoMLConfig\n",
        "\n",
        "automl_config = AutoMLConfig(task='regression',\n",
        "                             debug_log='automated_ml_errors.log',\n",
        "                             training_data=x_train,\n",
        "                             label_column_name=\"price\",\n",
        "                             **automl_settings)"
      ],
      "outputs": [],
      "execution_count": 11,
      "metadata": {
        "collapsed": true,
        "jupyter": {
          "source_hidden": false,
          "outputs_hidden": false
        },
        "nteract": {
          "transient": {
            "deleting": false
          }
        },
        "gather": {
          "logged": 1611633334078
        }
      }
    },
    {
      "cell_type": "markdown",
      "source": [
        "### Wyszukanie najlepszego modelu - trenowanie\n",
        "- Eksperyment będzie wykonywał serie iteracji wykorzystując różne konfiguracje modelów, wybierając jako wynik końcowy\n",
        "najlepszy z nich"
      ],
      "metadata": {
        "nteract": {
          "transient": {
            "deleting": false
          }
        }
      }
    },
    {
      "cell_type": "code",
      "source": [
        "from azureml.core.experiment import Experiment\n",
        "experiment = Experiment(ws, \"houses-experiment-5\")\n",
        "local_run = experiment.submit(automl_config, show_output=True)"
      ],
      "outputs": [
        {
          "output_type": "stream",
          "name": "stdout",
          "text": [
            "No run_configuration provided, running on local with default configuration\n",
            "Running on local machine\n",
            "Parent Run ID: AutoML_41eacc16-0071-4939-baa4-b6865bdd95df\n",
            "\n",
            "Current status: DatasetEvaluation. Gathering dataset statistics.\n",
            "Current status: FeaturesGeneration. Generating features for the dataset.\n",
            "Current status: DatasetFeaturization. Beginning to fit featurizers and featurize the dataset.\n",
            "Current status: DatasetFeaturizationCompleted. Completed fit featurizers and featurizing the dataset.\n",
            "Current status: DatasetCrossValidationSplit. Generating individually featurized CV splits.\n",
            "\n",
            "****************************************************************************************************\n",
            "DATA GUARDRAILS: \n",
            "\n",
            "TYPE:         Missing feature values imputation\n",
            "STATUS:       PASSED\n",
            "DESCRIPTION:  No feature missing values were detected in the training data.\n",
            "              Learn more about missing value imputation: https://aka.ms/AutomatedMLFeaturization\n",
            "\n",
            "****************************************************************************************************\n",
            "\n",
            "TYPE:         High cardinality feature detection\n",
            "STATUS:       PASSED\n",
            "DESCRIPTION:  Your inputs were analyzed, and no high cardinality features were detected.\n",
            "              Learn more about high cardinality feature handling: https://aka.ms/AutomatedMLFeaturization\n",
            "\n",
            "****************************************************************************************************\n",
            "Current status: ModelSelection. Beginning model selection.\n",
            "\n",
            "****************************************************************************************************\n",
            "ITERATION: The iteration being evaluated.\n",
            "PIPELINE: A summary description of the pipeline being evaluated.\n",
            "DURATION: Time taken for the current iteration.\n",
            "METRIC: The result of computing score on the fitted pipeline.\n",
            "BEST: The best observed score thus far.\n",
            "****************************************************************************************************\n",
            "\n",
            " ITERATION   PIPELINE                                       DURATION      METRIC      BEST\n",
            "         0   MaxAbsScaler LightGBM                          0:00:37       0.9458    0.9458\n",
            "         1   MaxAbsScaler XGBoostRegressor                  0:00:40       0.9252    0.9458\n",
            "         2   MaxAbsScaler RandomForest                      0:00:42       0.8929    0.9458\n",
            "         3   StandardScalerWrapper RandomForest             0:02:30       0.8946    0.9458\n",
            "         4   SparseNormalizer XGBoostRegressor              0:00:36       0.7582    0.9458\n",
            "         5   StandardScalerWrapper XGBoostRegressor         0:00:38       0.9430    0.9458\n",
            "         6   MaxAbsScaler RandomForest                      0:00:46       0.9164    0.9458\n",
            "         7   MaxAbsScaler RandomForest                      0:01:09       0.9287    0.9458\n",
            "         8   StandardScalerWrapper ElasticNet               0:00:43       0.8569    0.9458\n",
            "         9   StandardScalerWrapper DecisionTree             0:00:31       0.8960    0.9458\n",
            "        10   StandardScalerWrapper RandomForest             0:00:40       0.8858    0.9458\n",
            "        11   MaxAbsScaler ExtremeRandomTrees                0:01:30       0.9170    0.9458\n",
            "        12   MaxAbsScaler RandomForest                      0:00:41       0.8771    0.9458\n",
            "        13   MaxAbsScaler ExtremeRandomTrees                0:00:30       0.8652    0.9458\n",
            "        14   StandardScalerWrapper XGBoostRegressor         0:00:31       0.8577    0.9458\n",
            "        15   StandardScalerWrapper XGBoostRegressor         0:00:49       0.9436    0.9458\n",
            "        16   VotingEnsemble                                 0:00:58       0.9463    0.9463\n",
            "        17   StackEnsemble                                  0:00:53       0.9465    0.9465\n",
            "Stopping criteria reached at iteration 18. Ending experiment.\n",
            "****************************************************************************************************\n",
            "Current status: BestRunExplainModel. Best run model explanations started\n",
            "Current status: ModelExplanationDataSetSetup. Model explanations data setup completed\n",
            "Current status: PickSurrogateModel. Choosing LightGBM as the surrogate model for explanations\n",
            "Current status: EngineeredFeatureExplanations. Computation of engineered features started\n",
            "Current status: EngineeredFeatureExplanations. Computation of engineered features completed\n",
            "Current status: RawFeaturesExplanations. Computation of raw features started\n",
            "Current status: RawFeaturesExplanations. Computation of raw features completed\n",
            "Current status: BestRunExplainModel. Best run model explanations completed\n",
            "****************************************************************************************************\n"
          ]
        }
      ],
      "execution_count": 12,
      "metadata": {
        "collapsed": true,
        "jupyter": {
          "source_hidden": false,
          "outputs_hidden": false
        },
        "nteract": {
          "transient": {
            "deleting": false
          }
        },
        "gather": {
          "logged": 1611634605026
        }
      }
    },
    {
      "cell_type": "markdown",
      "source": [
        "### Otrzymanie modelu\n",
        "- wyswietlenie informacji o najlepszym modelu dla zadania regresji"
      ],
      "metadata": {
        "nteract": {
          "transient": {
            "deleting": false
          }
        }
      }
    },
    {
      "cell_type": "code",
      "source": [
        "best_run, fitted_model = local_run.get_output()\n",
        "print(best_run)\n",
        "print(fitted_model)"
      ],
      "outputs": [
        {
          "output_type": "stream",
          "name": "stdout",
          "text": [
            "Run(Experiment: houses-experiment-5,\n",
            "Id: AutoML_41eacc16-0071-4939-baa4-b6865bdd95df_17,\n",
            "Type: None,\n",
            "Status: Completed)\n",
            "RegressionPipeline(pipeline=Pipeline(memory=None,\n",
            "                                     steps=[('datatransformer',\n",
            "                                             DataTransformer(enable_dnn=None,\n",
            "                                                             enable_feature_sweeping=None,\n",
            "                                                             feature_sweeping_config=None,\n",
            "                                                             feature_sweeping_timeout=None,\n",
            "                                                             featurization_config=None,\n",
            "                                                             force_text_dnn=None,\n",
            "                                                             is_cross_validation=None,\n",
            "                                                             is_onnx_compatible=None,\n",
            "                                                             logger=None,\n",
            "                                                             observer=None,\n",
            "                                                             task=None,\n",
            "                                                             working_dir=None)),\n",
            "                                            ('sta...\n",
            "                                                                                                                      tree_method='auto',\n",
            "                                                                                                                      verbose=-10,\n",
            "                                                                                                                      verbosity=0))],\n",
            "                                                                                             verbose=False))],\n",
            "                                                                    meta_learner=ElasticNetCV(alphas=None,\n",
            "                                                                                              copy_X=True,\n",
            "                                                                                              cv=None,\n",
            "                                                                                              eps=0.001,\n",
            "                                                                                              fit_intercept=True,\n",
            "                                                                                              l1_ratio=0.5,\n",
            "                                                                                              max_iter=1000,\n",
            "                                                                                              n_alphas=100,\n",
            "                                                                                              n_jobs=None,\n",
            "                                                                                              normalize=False,\n",
            "                                                                                              positive=False,\n",
            "                                                                                              precompute='auto',\n",
            "                                                                                              random_state=None,\n",
            "                                                                                              selection='cyclic',\n",
            "                                                                                              tol=0.0001,\n",
            "                                                                                              verbose=0),\n",
            "                                                                    training_cv_folds=5))],\n",
            "                                     verbose=False),\n",
            "                   stddev=None)\n"
          ]
        }
      ],
      "execution_count": 13,
      "metadata": {
        "collapsed": true,
        "jupyter": {
          "source_hidden": false,
          "outputs_hidden": false
        },
        "nteract": {
          "transient": {
            "deleting": false
          }
        },
        "gather": {
          "logged": 1611634606482
        }
      }
    },
    {
      "cell_type": "markdown",
      "source": [
        "### Testowanie modelu - predykcja\n",
        "- usuniecie kolumny ze zmienną objaśnianą w celu sprawdzenia predykcji modelu\n",
        "- przetestowanie modelu przy pomocy wcześniej przygotowanego zbioru testowego"
      ],
      "metadata": {
        "nteract": {
          "transient": {
            "deleting": false
          }
        }
      }
    },
    {
      "cell_type": "code",
      "source": [
        "y_test = x_test.pop(\"price\")\n",
        "\n",
        "y_predict = fitted_model.predict(x_test)"
      ],
      "outputs": [],
      "execution_count": 14,
      "metadata": {
        "collapsed": true,
        "jupyter": {
          "source_hidden": false,
          "outputs_hidden": false
        },
        "nteract": {
          "transient": {
            "deleting": false
          }
        },
        "gather": {
          "logged": 1611634606988
        }
      }
    },
    {
      "cell_type": "markdown",
      "source": [
        "### Wyniki zadania regresji\n",
        "- obliczenie błędu RMSE definiującego odchylenie predykcji od rzeczywistych wartości domów"
      ],
      "metadata": {
        "nteract": {
          "transient": {
            "deleting": false
          }
        }
      }
    },
    {
      "cell_type": "code",
      "source": [
        "from sklearn.metrics import mean_squared_error\n",
        "from math import sqrt\n",
        "\n",
        "y_actual = y_test.values.flatten().tolist()\n",
        "rmse = sqrt(mean_squared_error(y_actual, y_predict))\n",
        "rmse\n"
      ],
      "outputs": [
        {
          "output_type": "execute_result",
          "execution_count": 15,
          "data": {
            "text/plain": "119262.54889622105"
          },
          "metadata": {}
        }
      ],
      "execution_count": 15,
      "metadata": {
        "collapsed": true,
        "jupyter": {
          "source_hidden": false,
          "outputs_hidden": false
        },
        "nteract": {
          "transient": {
            "deleting": false
          }
        },
        "gather": {
          "logged": 1611634607114
        }
      }
    },
    {
      "cell_type": "markdown",
      "source": [
        "- zestawienie danych rzeczywistych z predykcją w celu zobrazowania różnic"
      ],
      "metadata": {
        "nteract": {
          "transient": {
            "deleting": false
          }
        }
      }
    },
    {
      "cell_type": "code",
      "source": [
        "data = {\"actual\": y_actual, \"predict\": y_predict}\n",
        "df = pd.DataFrame(data,columns=[\"actual\",\"predict\"])\n",
        "print (df.head(10))"
      ],
      "outputs": [
        {
          "output_type": "stream",
          "name": "stdout",
          "text": [
            "      actual    predict\n",
            "0  792000.00  838163.77\n",
            "1  610000.00  947862.60\n",
            "2  327000.00  345002.26\n",
            "3  465000.00  540984.25\n",
            "4  460000.00  418327.48\n",
            "5  629000.00  488524.53\n",
            "6 2320000.00 2361056.81\n",
            "7  257000.00  290622.77\n",
            "8  415000.00  416229.44\n",
            "9  787888.00 1014498.68\n"
          ]
        }
      ],
      "execution_count": 16,
      "metadata": {
        "collapsed": true,
        "jupyter": {
          "source_hidden": false,
          "outputs_hidden": false
        },
        "nteract": {
          "transient": {
            "deleting": false
          }
        },
        "gather": {
          "logged": 1611634607230
        }
      }
    },
    {
      "cell_type": "markdown",
      "source": [
        "- graficzne zestawienie rzeczywistej wartości domu z predykcją"
      ],
      "metadata": {
        "nteract": {
          "transient": {
            "deleting": false
          }
        }
      }
    },
    {
      "cell_type": "code",
      "source": [
        "graph = df\n",
        "graph.plot.line()\n",
        "plt.show()"
      ],
      "outputs": [
        {
          "output_type": "display_data",
          "data": {
            "text/plain": "<Figure size 432x288 with 1 Axes>",
            "image/png": "[encoded data removed]"
          },
          "metadata": {
            "needs_background": "light"
          }
        }
      ],
      "execution_count": 51,
      "metadata": {
        "collapsed": true,
        "jupyter": {
          "source_hidden": false,
          "outputs_hidden": false
        },
        "nteract": {
          "transient": {
            "deleting": false
          }
        },
        "gather": {
          "logged": 1611664258458
        }
      }
    },
    {
      "cell_type": "markdown",
      "source": [
        "- wyliczenie średniego błędu bezwględnego MAPE - pozwala na określenie jak duże mogą być odchyłki od uzyskanych wyników z predykcji\n",
        "- określenie dokładności modelu"
      ],
      "metadata": {
        "nteract": {
          "transient": {
            "deleting": false
          }
        }
      }
    },
    {
      "cell_type": "code",
      "source": [
        "sum_actuals = sum_errors = 0\n",
        "\n",
        "for actual_val, predict_val in zip(y_actual, y_predict):\n",
        "    abs_error = actual_val - predict_val\n",
        "    if abs_error < 0:\n",
        "        abs_error = abs_error * -1\n",
        "\n",
        "    sum_errors = sum_errors + abs_error\n",
        "    sum_actuals = sum_actuals + actual_val\n",
        "\n",
        "mean_abs_percent_error = sum_errors / sum_actuals\n",
        "print(\"Model MAPE:\")\n",
        "print(mean_abs_percent_error)\n",
        "print()\n",
        "print(\"Model Accuracy:\")\n",
        "print(1 - mean_abs_percent_error)"
      ],
      "outputs": [
        {
          "output_type": "stream",
          "name": "stdout",
          "text": [
            "Model MAPE:\n",
            "0.1270621848755318\n",
            "\n",
            "Model Accuracy:\n",
            "0.8729378151244682\n"
          ]
        }
      ],
      "execution_count": 20,
      "metadata": {
        "collapsed": true,
        "jupyter": {
          "source_hidden": false,
          "outputs_hidden": false
        },
        "nteract": {
          "transient": {
            "deleting": false
          }
        },
        "gather": {
          "logged": 1611635195390
        }
      }
    }
  ],
  "metadata": {
    "kernelspec": {
      "name": "python3-azureml",
      "language": "python",
      "display_name": "Python 3.6 - AzureML"
    },
    "language_info": {
      "name": "python",
      "version": "3.6.9",
      "mimetype": "text/x-python",
      "codemirror_mode": {
        "name": "ipython",
        "version": 3
      },
      "pygments_lexer": "ipython3",
      "nbconvert_exporter": "python",
      "file_extension": ".py"
    },
    "kernel_info": {
      "name": "python3-azureml"
    },
    "nteract": {
      "version": "nteract-front-end@1.0.0"
    }
  },
  "nbformat": 4,
  "nbformat_minor": 2
}